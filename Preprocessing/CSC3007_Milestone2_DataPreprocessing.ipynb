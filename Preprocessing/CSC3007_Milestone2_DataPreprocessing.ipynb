{
  "cells": [
    {
      "cell_type": "markdown",
      "source": [
        "## **Imports and Setting Up**"
      ],
      "metadata": {
        "id": "p8jVbeNXdeWo"
      }
    },
    {
      "cell_type": "code",
      "execution_count": 1,
      "metadata": {
        "id": "xqEYEU7d100j"
      },
      "outputs": [],
      "source": [
        "import pandas as pd"
      ]
    },
    {
      "cell_type": "code",
      "execution_count": 2,
      "metadata": {
        "colab": {
          "base_uri": "https://localhost:8080/"
        },
        "id": "wPIYpT_n3saL",
        "outputId": "66a63288-bc6a-4ea1-f1da-c17993516f60"
      },
      "outputs": [
        {
          "output_type": "stream",
          "name": "stdout",
          "text": [
            "Drive already mounted at /gdrive; to attempt to forcibly remount, call drive.mount(\"/gdrive\", force_remount=True).\n",
            "/gdrive/My Drive\n"
          ]
        }
      ],
      "source": [
        "from google.colab import drive\n",
        " \n",
        "#mount g drive\n",
        "drive.mount('/gdrive')\n",
        "\n",
        "# navigate to the project's folder\n",
        "%cd /gdrive/'My Drive'/"
      ]
    },
    {
      "cell_type": "markdown",
      "source": [
        "## **Load owid-covid-data.csv into dataframe**"
      ],
      "metadata": {
        "id": "KI35b69Qd1Zy"
      }
    },
    {
      "cell_type": "code",
      "execution_count": 21,
      "metadata": {
        "id": "monpLIli22O8"
      },
      "outputs": [],
      "source": [
        "df = pd.read_csv('CSC3007_datasets/owid-covid-data.csv') "
      ]
    },
    {
      "cell_type": "code",
      "execution_count": 22,
      "metadata": {
        "id": "oFsfRRTf8tHM"
      },
      "outputs": [],
      "source": [
        "pd.set_option('display.max_columns', None)"
      ]
    },
    {
      "cell_type": "code",
      "execution_count": 23,
      "metadata": {
        "colab": {
          "base_uri": "https://localhost:8080/"
        },
        "id": "cF9Ppqlu3a9b",
        "outputId": "7f02b198-3693-423a-81de-0c4b1161b038"
      },
      "outputs": [
        {
          "output_type": "execute_result",
          "data": {
            "text/plain": [
              "67"
            ]
          },
          "metadata": {},
          "execution_count": 23
        }
      ],
      "source": [
        "len(df.columns)"
      ]
    },
    {
      "cell_type": "markdown",
      "source": [
        "## **Retrieve only the columns we need from the dataframe**"
      ],
      "metadata": {
        "id": "6U6AlBp4d-XD"
      }
    },
    {
      "cell_type": "code",
      "execution_count": 24,
      "metadata": {
        "id": "Mi53UO-f6eWg"
      },
      "outputs": [],
      "source": [
        "df = df[[\"continent\", \"location\", \"date\", \"total_cases\", \"new_cases\", \"total_deaths\", \"new_deaths\", \"total_vaccinations\", \"people_vaccinated\", \"people_fully_vaccinated\", \"total_boosters\", \"population\", \"population_density\"]].fillna(0)"
      ]
    },
    {
      "cell_type": "code",
      "source": [
        "len(df)"
      ],
      "metadata": {
        "colab": {
          "base_uri": "https://localhost:8080/"
        },
        "id": "90-rAm0InE9U",
        "outputId": "ecbf8539-d451-4dae-d04a-2d98b345d339"
      },
      "execution_count": 42,
      "outputs": [
        {
          "output_type": "execute_result",
          "data": {
            "text/plain": [
              "197476"
            ]
          },
          "metadata": {},
          "execution_count": 42
        }
      ]
    },
    {
      "cell_type": "markdown",
      "source": [
        "## **Load world_geojson.json into dataframe**"
      ],
      "metadata": {
        "id": "mkZIgL7nfiBT"
      }
    },
    {
      "cell_type": "code",
      "execution_count": 25,
      "metadata": {
        "id": "lRFjLoih_6q9"
      },
      "outputs": [],
      "source": [
        "import json\n",
        "\n",
        "with open('CSC3007_datasets/world_geojson.json') as data_file:    \n",
        "    data = json.load(data_file)  \n",
        "\n",
        "df_geo_world = pd.json_normalize(data, 'features', ['type'], \n",
        "                    record_prefix='features_')\n"
      ]
    },
    {
      "cell_type": "code",
      "execution_count": 26,
      "metadata": {
        "id": "IUtrKrhPAgh6",
        "colab": {
          "base_uri": "https://localhost:8080/",
          "height": 206
        },
        "outputId": "b944b13e-1542-4a05-d89d-094139c83724"
      },
      "outputs": [
        {
          "output_type": "execute_result",
          "data": {
            "text/plain": [
              "  features_type features_id features_properties.name features_geometry.type  \\\n",
              "0       Feature         AFG              Afghanistan                Polygon   \n",
              "1       Feature         AGO                   Angola           MultiPolygon   \n",
              "2       Feature         ALB                  Albania                Polygon   \n",
              "3       Feature         ARE     United Arab Emirates                Polygon   \n",
              "4       Feature         ARG                Argentina           MultiPolygon   \n",
              "\n",
              "                       features_geometry.coordinates               type  \n",
              "0  [[[61.210817, 35.650072], [62.230651, 35.27066...  FeatureCollection  \n",
              "1  [[[[16.326528, -5.87747], [16.57318, -6.622645...  FeatureCollection  \n",
              "2  [[[20.590247, 41.855404], [20.463175, 41.51508...  FeatureCollection  \n",
              "3  [[[51.579519, 24.245497], [51.757441, 24.29407...  FeatureCollection  \n",
              "4  [[[[-65.5, -55.2], [-66.45, -55.25], [-66.9599...  FeatureCollection  "
            ],
            "text/html": [
              "\n",
              "  <div id=\"df-d3386a4e-22b1-48d1-9d07-6d2d807ab03d\">\n",
              "    <div class=\"colab-df-container\">\n",
              "      <div>\n",
              "<style scoped>\n",
              "    .dataframe tbody tr th:only-of-type {\n",
              "        vertical-align: middle;\n",
              "    }\n",
              "\n",
              "    .dataframe tbody tr th {\n",
              "        vertical-align: top;\n",
              "    }\n",
              "\n",
              "    .dataframe thead th {\n",
              "        text-align: right;\n",
              "    }\n",
              "</style>\n",
              "<table border=\"1\" class=\"dataframe\">\n",
              "  <thead>\n",
              "    <tr style=\"text-align: right;\">\n",
              "      <th></th>\n",
              "      <th>features_type</th>\n",
              "      <th>features_id</th>\n",
              "      <th>features_properties.name</th>\n",
              "      <th>features_geometry.type</th>\n",
              "      <th>features_geometry.coordinates</th>\n",
              "      <th>type</th>\n",
              "    </tr>\n",
              "  </thead>\n",
              "  <tbody>\n",
              "    <tr>\n",
              "      <th>0</th>\n",
              "      <td>Feature</td>\n",
              "      <td>AFG</td>\n",
              "      <td>Afghanistan</td>\n",
              "      <td>Polygon</td>\n",
              "      <td>[[[61.210817, 35.650072], [62.230651, 35.27066...</td>\n",
              "      <td>FeatureCollection</td>\n",
              "    </tr>\n",
              "    <tr>\n",
              "      <th>1</th>\n",
              "      <td>Feature</td>\n",
              "      <td>AGO</td>\n",
              "      <td>Angola</td>\n",
              "      <td>MultiPolygon</td>\n",
              "      <td>[[[[16.326528, -5.87747], [16.57318, -6.622645...</td>\n",
              "      <td>FeatureCollection</td>\n",
              "    </tr>\n",
              "    <tr>\n",
              "      <th>2</th>\n",
              "      <td>Feature</td>\n",
              "      <td>ALB</td>\n",
              "      <td>Albania</td>\n",
              "      <td>Polygon</td>\n",
              "      <td>[[[20.590247, 41.855404], [20.463175, 41.51508...</td>\n",
              "      <td>FeatureCollection</td>\n",
              "    </tr>\n",
              "    <tr>\n",
              "      <th>3</th>\n",
              "      <td>Feature</td>\n",
              "      <td>ARE</td>\n",
              "      <td>United Arab Emirates</td>\n",
              "      <td>Polygon</td>\n",
              "      <td>[[[51.579519, 24.245497], [51.757441, 24.29407...</td>\n",
              "      <td>FeatureCollection</td>\n",
              "    </tr>\n",
              "    <tr>\n",
              "      <th>4</th>\n",
              "      <td>Feature</td>\n",
              "      <td>ARG</td>\n",
              "      <td>Argentina</td>\n",
              "      <td>MultiPolygon</td>\n",
              "      <td>[[[[-65.5, -55.2], [-66.45, -55.25], [-66.9599...</td>\n",
              "      <td>FeatureCollection</td>\n",
              "    </tr>\n",
              "  </tbody>\n",
              "</table>\n",
              "</div>\n",
              "      <button class=\"colab-df-convert\" onclick=\"convertToInteractive('df-d3386a4e-22b1-48d1-9d07-6d2d807ab03d')\"\n",
              "              title=\"Convert this dataframe to an interactive table.\"\n",
              "              style=\"display:none;\">\n",
              "        \n",
              "  <svg xmlns=\"http://www.w3.org/2000/svg\" height=\"24px\"viewBox=\"0 0 24 24\"\n",
              "       width=\"24px\">\n",
              "    <path d=\"M0 0h24v24H0V0z\" fill=\"none\"/>\n",
              "    <path d=\"M18.56 5.44l.94 2.06.94-2.06 2.06-.94-2.06-.94-.94-2.06-.94 2.06-2.06.94zm-11 1L8.5 8.5l.94-2.06 2.06-.94-2.06-.94L8.5 2.5l-.94 2.06-2.06.94zm10 10l.94 2.06.94-2.06 2.06-.94-2.06-.94-.94-2.06-.94 2.06-2.06.94z\"/><path d=\"M17.41 7.96l-1.37-1.37c-.4-.4-.92-.59-1.43-.59-.52 0-1.04.2-1.43.59L10.3 9.45l-7.72 7.72c-.78.78-.78 2.05 0 2.83L4 21.41c.39.39.9.59 1.41.59.51 0 1.02-.2 1.41-.59l7.78-7.78 2.81-2.81c.8-.78.8-2.07 0-2.86zM5.41 20L4 18.59l7.72-7.72 1.47 1.35L5.41 20z\"/>\n",
              "  </svg>\n",
              "      </button>\n",
              "      \n",
              "  <style>\n",
              "    .colab-df-container {\n",
              "      display:flex;\n",
              "      flex-wrap:wrap;\n",
              "      gap: 12px;\n",
              "    }\n",
              "\n",
              "    .colab-df-convert {\n",
              "      background-color: #E8F0FE;\n",
              "      border: none;\n",
              "      border-radius: 50%;\n",
              "      cursor: pointer;\n",
              "      display: none;\n",
              "      fill: #1967D2;\n",
              "      height: 32px;\n",
              "      padding: 0 0 0 0;\n",
              "      width: 32px;\n",
              "    }\n",
              "\n",
              "    .colab-df-convert:hover {\n",
              "      background-color: #E2EBFA;\n",
              "      box-shadow: 0px 1px 2px rgba(60, 64, 67, 0.3), 0px 1px 3px 1px rgba(60, 64, 67, 0.15);\n",
              "      fill: #174EA6;\n",
              "    }\n",
              "\n",
              "    [theme=dark] .colab-df-convert {\n",
              "      background-color: #3B4455;\n",
              "      fill: #D2E3FC;\n",
              "    }\n",
              "\n",
              "    [theme=dark] .colab-df-convert:hover {\n",
              "      background-color: #434B5C;\n",
              "      box-shadow: 0px 1px 3px 1px rgba(0, 0, 0, 0.15);\n",
              "      filter: drop-shadow(0px 1px 2px rgba(0, 0, 0, 0.3));\n",
              "      fill: #FFFFFF;\n",
              "    }\n",
              "  </style>\n",
              "\n",
              "      <script>\n",
              "        const buttonEl =\n",
              "          document.querySelector('#df-d3386a4e-22b1-48d1-9d07-6d2d807ab03d button.colab-df-convert');\n",
              "        buttonEl.style.display =\n",
              "          google.colab.kernel.accessAllowed ? 'block' : 'none';\n",
              "\n",
              "        async function convertToInteractive(key) {\n",
              "          const element = document.querySelector('#df-d3386a4e-22b1-48d1-9d07-6d2d807ab03d');\n",
              "          const dataTable =\n",
              "            await google.colab.kernel.invokeFunction('convertToInteractive',\n",
              "                                                     [key], {});\n",
              "          if (!dataTable) return;\n",
              "\n",
              "          const docLinkHtml = 'Like what you see? Visit the ' +\n",
              "            '<a target=\"_blank\" href=https://colab.research.google.com/notebooks/data_table.ipynb>data table notebook</a>'\n",
              "            + ' to learn more about interactive tables.';\n",
              "          element.innerHTML = '';\n",
              "          dataTable['output_type'] = 'display_data';\n",
              "          await google.colab.output.renderOutput(dataTable, element);\n",
              "          const docLink = document.createElement('div');\n",
              "          docLink.innerHTML = docLinkHtml;\n",
              "          element.appendChild(docLink);\n",
              "        }\n",
              "      </script>\n",
              "    </div>\n",
              "  </div>\n",
              "  "
            ]
          },
          "metadata": {},
          "execution_count": 26
        }
      ],
      "source": [
        "df_geo_world.head()"
      ]
    },
    {
      "cell_type": "code",
      "execution_count": 27,
      "metadata": {
        "id": "JHZa0VxeAoKu",
        "colab": {
          "base_uri": "https://localhost:8080/"
        },
        "outputId": "746b3bf3-149b-4a35-fc3e-6aa690e31ba4"
      },
      "outputs": [
        {
          "output_type": "execute_result",
          "data": {
            "text/plain": [
              "0               Afghanistan\n",
              "1                    Angola\n",
              "2                   Albania\n",
              "3      United Arab Emirates\n",
              "4                 Argentina\n",
              "               ...         \n",
              "172               West Bank\n",
              "173                   Yemen\n",
              "174            South Africa\n",
              "175                  Zambia\n",
              "176                Zimbabwe\n",
              "Name: features_properties.name, Length: 177, dtype: object"
            ]
          },
          "metadata": {},
          "execution_count": 27
        }
      ],
      "source": [
        "df_geo_world[\"features_properties.name\"]"
      ]
    },
    {
      "cell_type": "markdown",
      "source": [
        "## **Only get the rows based on the common values between the column:\"location\" from the owid-covid-data.csv and in the column:\"features_properties.name\" from the world_geojson.json**"
      ],
      "metadata": {
        "id": "wMKVj44Vfq8C"
      }
    },
    {
      "cell_type": "code",
      "source": [
        "df_without_duplicates = df.drop_duplicates(subset=['location'])\n",
        "df_without_duplicates\n",
        "print(len(df_without_duplicates))"
      ],
      "metadata": {
        "colab": {
          "base_uri": "https://localhost:8080/"
        },
        "id": "kDLq_onCdSXm",
        "outputId": "f70bcccc-82c4-4a0a-f993-7370f196ab7c"
      },
      "execution_count": 39,
      "outputs": [
        {
          "output_type": "stream",
          "name": "stdout",
          "text": [
            "244\n"
          ]
        }
      ]
    },
    {
      "cell_type": "code",
      "source": [
        "common_df=  df_without_duplicates[df_without_duplicates['location'].isin(df_geo_world['features_properties.name'])]"
      ],
      "metadata": {
        "colab": {
          "base_uri": "https://localhost:8080/",
          "height": 641
        },
        "id": "MnwjBIpWbwG9",
        "outputId": "f84b3562-33c8-48f9-804a-4fb2c88eb8e0"
      },
      "execution_count": 50,
      "outputs": [
        {
          "output_type": "execute_result",
          "data": {
            "text/plain": [
              "            continent        location        date  total_cases  new_cases  \\\n",
              "0                Asia     Afghanistan  2020-02-24          5.0        5.0   \n",
              "1723           Europe         Albania  2020-02-25          0.0        0.0   \n",
              "2578           Africa         Algeria  2020-02-25          1.0        1.0   \n",
              "4282           Africa          Angola  2020-03-20          1.0        1.0   \n",
              "6774    South America       Argentina  2020-01-01          0.0        0.0   \n",
              "...               ...             ...         ...          ...        ...   \n",
              "192606           Asia         Vietnam  2020-01-23          2.0        2.0   \n",
              "194112         Africa  Western Sahara  2022-04-20          0.0        0.0   \n",
              "195002           Asia           Yemen  2020-04-10          1.0        1.0   \n",
              "195812         Africa          Zambia  2020-03-18          2.0        2.0   \n",
              "196645         Africa        Zimbabwe  2020-03-20          1.0        1.0   \n",
              "\n",
              "        total_deaths  new_deaths  total_vaccinations  people_vaccinated  \\\n",
              "0                0.0         0.0                 0.0                0.0   \n",
              "1723             0.0         0.0                 0.0                0.0   \n",
              "2578             0.0         0.0                 0.0                0.0   \n",
              "4282             0.0         0.0                 0.0                0.0   \n",
              "6774             0.0         0.0                 0.0                0.0   \n",
              "...              ...         ...                 ...                ...   \n",
              "192606           0.0         0.0                 0.0                0.0   \n",
              "194112           0.0         0.0                 0.0                0.0   \n",
              "195002           0.0         0.0                 0.0                0.0   \n",
              "195812           0.0         0.0                 0.0                0.0   \n",
              "196645           0.0         0.0                 0.0                0.0   \n",
              "\n",
              "        people_fully_vaccinated  total_boosters  population  \\\n",
              "0                           0.0             0.0  39835428.0   \n",
              "1723                        0.0             0.0   2872934.0   \n",
              "2578                        0.0             0.0  44616626.0   \n",
              "4282                        0.0             0.0  33933611.0   \n",
              "6774                        0.0             0.0  45605823.0   \n",
              "...                         ...             ...         ...   \n",
              "192606                      0.0             0.0  98168829.0   \n",
              "194112                      0.0             0.0    611872.0   \n",
              "195002                      0.0             0.0  30490639.0   \n",
              "195812                      0.0             0.0  18920657.0   \n",
              "196645                      0.0             0.0  15092171.0   \n",
              "\n",
              "        population_density  \n",
              "0                   54.422  \n",
              "1723               104.871  \n",
              "2578                17.348  \n",
              "4282                23.890  \n",
              "6774                16.177  \n",
              "...                    ...  \n",
              "192606             308.127  \n",
              "194112               0.000  \n",
              "195002              53.508  \n",
              "195812              22.995  \n",
              "196645              42.729  \n",
              "\n",
              "[160 rows x 13 columns]"
            ],
            "text/html": [
              "\n",
              "  <div id=\"df-e28c51a6-892f-41a0-894b-6bb00e56adc1\">\n",
              "    <div class=\"colab-df-container\">\n",
              "      <div>\n",
              "<style scoped>\n",
              "    .dataframe tbody tr th:only-of-type {\n",
              "        vertical-align: middle;\n",
              "    }\n",
              "\n",
              "    .dataframe tbody tr th {\n",
              "        vertical-align: top;\n",
              "    }\n",
              "\n",
              "    .dataframe thead th {\n",
              "        text-align: right;\n",
              "    }\n",
              "</style>\n",
              "<table border=\"1\" class=\"dataframe\">\n",
              "  <thead>\n",
              "    <tr style=\"text-align: right;\">\n",
              "      <th></th>\n",
              "      <th>continent</th>\n",
              "      <th>location</th>\n",
              "      <th>date</th>\n",
              "      <th>total_cases</th>\n",
              "      <th>new_cases</th>\n",
              "      <th>total_deaths</th>\n",
              "      <th>new_deaths</th>\n",
              "      <th>total_vaccinations</th>\n",
              "      <th>people_vaccinated</th>\n",
              "      <th>people_fully_vaccinated</th>\n",
              "      <th>total_boosters</th>\n",
              "      <th>population</th>\n",
              "      <th>population_density</th>\n",
              "    </tr>\n",
              "  </thead>\n",
              "  <tbody>\n",
              "    <tr>\n",
              "      <th>0</th>\n",
              "      <td>Asia</td>\n",
              "      <td>Afghanistan</td>\n",
              "      <td>2020-02-24</td>\n",
              "      <td>5.0</td>\n",
              "      <td>5.0</td>\n",
              "      <td>0.0</td>\n",
              "      <td>0.0</td>\n",
              "      <td>0.0</td>\n",
              "      <td>0.0</td>\n",
              "      <td>0.0</td>\n",
              "      <td>0.0</td>\n",
              "      <td>39835428.0</td>\n",
              "      <td>54.422</td>\n",
              "    </tr>\n",
              "    <tr>\n",
              "      <th>1723</th>\n",
              "      <td>Europe</td>\n",
              "      <td>Albania</td>\n",
              "      <td>2020-02-25</td>\n",
              "      <td>0.0</td>\n",
              "      <td>0.0</td>\n",
              "      <td>0.0</td>\n",
              "      <td>0.0</td>\n",
              "      <td>0.0</td>\n",
              "      <td>0.0</td>\n",
              "      <td>0.0</td>\n",
              "      <td>0.0</td>\n",
              "      <td>2872934.0</td>\n",
              "      <td>104.871</td>\n",
              "    </tr>\n",
              "    <tr>\n",
              "      <th>2578</th>\n",
              "      <td>Africa</td>\n",
              "      <td>Algeria</td>\n",
              "      <td>2020-02-25</td>\n",
              "      <td>1.0</td>\n",
              "      <td>1.0</td>\n",
              "      <td>0.0</td>\n",
              "      <td>0.0</td>\n",
              "      <td>0.0</td>\n",
              "      <td>0.0</td>\n",
              "      <td>0.0</td>\n",
              "      <td>0.0</td>\n",
              "      <td>44616626.0</td>\n",
              "      <td>17.348</td>\n",
              "    </tr>\n",
              "    <tr>\n",
              "      <th>4282</th>\n",
              "      <td>Africa</td>\n",
              "      <td>Angola</td>\n",
              "      <td>2020-03-20</td>\n",
              "      <td>1.0</td>\n",
              "      <td>1.0</td>\n",
              "      <td>0.0</td>\n",
              "      <td>0.0</td>\n",
              "      <td>0.0</td>\n",
              "      <td>0.0</td>\n",
              "      <td>0.0</td>\n",
              "      <td>0.0</td>\n",
              "      <td>33933611.0</td>\n",
              "      <td>23.890</td>\n",
              "    </tr>\n",
              "    <tr>\n",
              "      <th>6774</th>\n",
              "      <td>South America</td>\n",
              "      <td>Argentina</td>\n",
              "      <td>2020-01-01</td>\n",
              "      <td>0.0</td>\n",
              "      <td>0.0</td>\n",
              "      <td>0.0</td>\n",
              "      <td>0.0</td>\n",
              "      <td>0.0</td>\n",
              "      <td>0.0</td>\n",
              "      <td>0.0</td>\n",
              "      <td>0.0</td>\n",
              "      <td>45605823.0</td>\n",
              "      <td>16.177</td>\n",
              "    </tr>\n",
              "    <tr>\n",
              "      <th>...</th>\n",
              "      <td>...</td>\n",
              "      <td>...</td>\n",
              "      <td>...</td>\n",
              "      <td>...</td>\n",
              "      <td>...</td>\n",
              "      <td>...</td>\n",
              "      <td>...</td>\n",
              "      <td>...</td>\n",
              "      <td>...</td>\n",
              "      <td>...</td>\n",
              "      <td>...</td>\n",
              "      <td>...</td>\n",
              "      <td>...</td>\n",
              "    </tr>\n",
              "    <tr>\n",
              "      <th>192606</th>\n",
              "      <td>Asia</td>\n",
              "      <td>Vietnam</td>\n",
              "      <td>2020-01-23</td>\n",
              "      <td>2.0</td>\n",
              "      <td>2.0</td>\n",
              "      <td>0.0</td>\n",
              "      <td>0.0</td>\n",
              "      <td>0.0</td>\n",
              "      <td>0.0</td>\n",
              "      <td>0.0</td>\n",
              "      <td>0.0</td>\n",
              "      <td>98168829.0</td>\n",
              "      <td>308.127</td>\n",
              "    </tr>\n",
              "    <tr>\n",
              "      <th>194112</th>\n",
              "      <td>Africa</td>\n",
              "      <td>Western Sahara</td>\n",
              "      <td>2022-04-20</td>\n",
              "      <td>0.0</td>\n",
              "      <td>0.0</td>\n",
              "      <td>0.0</td>\n",
              "      <td>0.0</td>\n",
              "      <td>0.0</td>\n",
              "      <td>0.0</td>\n",
              "      <td>0.0</td>\n",
              "      <td>0.0</td>\n",
              "      <td>611872.0</td>\n",
              "      <td>0.000</td>\n",
              "    </tr>\n",
              "    <tr>\n",
              "      <th>195002</th>\n",
              "      <td>Asia</td>\n",
              "      <td>Yemen</td>\n",
              "      <td>2020-04-10</td>\n",
              "      <td>1.0</td>\n",
              "      <td>1.0</td>\n",
              "      <td>0.0</td>\n",
              "      <td>0.0</td>\n",
              "      <td>0.0</td>\n",
              "      <td>0.0</td>\n",
              "      <td>0.0</td>\n",
              "      <td>0.0</td>\n",
              "      <td>30490639.0</td>\n",
              "      <td>53.508</td>\n",
              "    </tr>\n",
              "    <tr>\n",
              "      <th>195812</th>\n",
              "      <td>Africa</td>\n",
              "      <td>Zambia</td>\n",
              "      <td>2020-03-18</td>\n",
              "      <td>2.0</td>\n",
              "      <td>2.0</td>\n",
              "      <td>0.0</td>\n",
              "      <td>0.0</td>\n",
              "      <td>0.0</td>\n",
              "      <td>0.0</td>\n",
              "      <td>0.0</td>\n",
              "      <td>0.0</td>\n",
              "      <td>18920657.0</td>\n",
              "      <td>22.995</td>\n",
              "    </tr>\n",
              "    <tr>\n",
              "      <th>196645</th>\n",
              "      <td>Africa</td>\n",
              "      <td>Zimbabwe</td>\n",
              "      <td>2020-03-20</td>\n",
              "      <td>1.0</td>\n",
              "      <td>1.0</td>\n",
              "      <td>0.0</td>\n",
              "      <td>0.0</td>\n",
              "      <td>0.0</td>\n",
              "      <td>0.0</td>\n",
              "      <td>0.0</td>\n",
              "      <td>0.0</td>\n",
              "      <td>15092171.0</td>\n",
              "      <td>42.729</td>\n",
              "    </tr>\n",
              "  </tbody>\n",
              "</table>\n",
              "<p>160 rows × 13 columns</p>\n",
              "</div>\n",
              "      <button class=\"colab-df-convert\" onclick=\"convertToInteractive('df-e28c51a6-892f-41a0-894b-6bb00e56adc1')\"\n",
              "              title=\"Convert this dataframe to an interactive table.\"\n",
              "              style=\"display:none;\">\n",
              "        \n",
              "  <svg xmlns=\"http://www.w3.org/2000/svg\" height=\"24px\"viewBox=\"0 0 24 24\"\n",
              "       width=\"24px\">\n",
              "    <path d=\"M0 0h24v24H0V0z\" fill=\"none\"/>\n",
              "    <path d=\"M18.56 5.44l.94 2.06.94-2.06 2.06-.94-2.06-.94-.94-2.06-.94 2.06-2.06.94zm-11 1L8.5 8.5l.94-2.06 2.06-.94-2.06-.94L8.5 2.5l-.94 2.06-2.06.94zm10 10l.94 2.06.94-2.06 2.06-.94-2.06-.94-.94-2.06-.94 2.06-2.06.94z\"/><path d=\"M17.41 7.96l-1.37-1.37c-.4-.4-.92-.59-1.43-.59-.52 0-1.04.2-1.43.59L10.3 9.45l-7.72 7.72c-.78.78-.78 2.05 0 2.83L4 21.41c.39.39.9.59 1.41.59.51 0 1.02-.2 1.41-.59l7.78-7.78 2.81-2.81c.8-.78.8-2.07 0-2.86zM5.41 20L4 18.59l7.72-7.72 1.47 1.35L5.41 20z\"/>\n",
              "  </svg>\n",
              "      </button>\n",
              "      \n",
              "  <style>\n",
              "    .colab-df-container {\n",
              "      display:flex;\n",
              "      flex-wrap:wrap;\n",
              "      gap: 12px;\n",
              "    }\n",
              "\n",
              "    .colab-df-convert {\n",
              "      background-color: #E8F0FE;\n",
              "      border: none;\n",
              "      border-radius: 50%;\n",
              "      cursor: pointer;\n",
              "      display: none;\n",
              "      fill: #1967D2;\n",
              "      height: 32px;\n",
              "      padding: 0 0 0 0;\n",
              "      width: 32px;\n",
              "    }\n",
              "\n",
              "    .colab-df-convert:hover {\n",
              "      background-color: #E2EBFA;\n",
              "      box-shadow: 0px 1px 2px rgba(60, 64, 67, 0.3), 0px 1px 3px 1px rgba(60, 64, 67, 0.15);\n",
              "      fill: #174EA6;\n",
              "    }\n",
              "\n",
              "    [theme=dark] .colab-df-convert {\n",
              "      background-color: #3B4455;\n",
              "      fill: #D2E3FC;\n",
              "    }\n",
              "\n",
              "    [theme=dark] .colab-df-convert:hover {\n",
              "      background-color: #434B5C;\n",
              "      box-shadow: 0px 1px 3px 1px rgba(0, 0, 0, 0.15);\n",
              "      filter: drop-shadow(0px 1px 2px rgba(0, 0, 0, 0.3));\n",
              "      fill: #FFFFFF;\n",
              "    }\n",
              "  </style>\n",
              "\n",
              "      <script>\n",
              "        const buttonEl =\n",
              "          document.querySelector('#df-e28c51a6-892f-41a0-894b-6bb00e56adc1 button.colab-df-convert');\n",
              "        buttonEl.style.display =\n",
              "          google.colab.kernel.accessAllowed ? 'block' : 'none';\n",
              "\n",
              "        async function convertToInteractive(key) {\n",
              "          const element = document.querySelector('#df-e28c51a6-892f-41a0-894b-6bb00e56adc1');\n",
              "          const dataTable =\n",
              "            await google.colab.kernel.invokeFunction('convertToInteractive',\n",
              "                                                     [key], {});\n",
              "          if (!dataTable) return;\n",
              "\n",
              "          const docLinkHtml = 'Like what you see? Visit the ' +\n",
              "            '<a target=\"_blank\" href=https://colab.research.google.com/notebooks/data_table.ipynb>data table notebook</a>'\n",
              "            + ' to learn more about interactive tables.';\n",
              "          element.innerHTML = '';\n",
              "          dataTable['output_type'] = 'display_data';\n",
              "          await google.colab.output.renderOutput(dataTable, element);\n",
              "          const docLink = document.createElement('div');\n",
              "          docLink.innerHTML = docLinkHtml;\n",
              "          element.appendChild(docLink);\n",
              "        }\n",
              "      </script>\n",
              "    </div>\n",
              "  </div>\n",
              "  "
            ]
          },
          "metadata": {},
          "execution_count": 50
        }
      ]
    },
    {
      "cell_type": "code",
      "source": [
        "intersect_locations = common_df['location']"
      ],
      "metadata": {
        "colab": {
          "base_uri": "https://localhost:8080/"
        },
        "id": "Kl9n4f2cnwET",
        "outputId": "39c8d1cd-2043-4371-ad67-9ca348d8304f"
      },
      "execution_count": 52,
      "outputs": [
        {
          "output_type": "stream",
          "name": "stdout",
          "text": [
            "0            Afghanistan\n",
            "1723             Albania\n",
            "2578             Algeria\n",
            "4282              Angola\n",
            "6774           Argentina\n",
            "               ...      \n",
            "192606           Vietnam\n",
            "194112    Western Sahara\n",
            "195002             Yemen\n",
            "195812            Zambia\n",
            "196645          Zimbabwe\n",
            "Name: location, Length: 160, dtype: object\n"
          ]
        }
      ]
    },
    {
      "cell_type": "code",
      "source": [
        "final_output = df.loc[df['location'].isin(intersect_locations.values)]\n",
        "print(len(final_output))"
      ],
      "metadata": {
        "colab": {
          "base_uri": "https://localhost:8080/"
        },
        "id": "XWfa68lCnhzj",
        "outputId": "30e31a75-3e16-4362-a209-6ee511d8692b"
      },
      "execution_count": 56,
      "outputs": [
        {
          "output_type": "stream",
          "name": "stdout",
          "text": [
            "133581\n"
          ]
        }
      ]
    },
    {
      "cell_type": "code",
      "execution_count": 55,
      "metadata": {
        "id": "JKvWTTuwQ9ed"
      },
      "outputs": [],
      "source": [
        "final_output.to_csv(\"CSC3007_datasets/owid-covid-data_processed.csv\", encoding='utf-8')"
      ]
    }
  ],
  "metadata": {
    "colab": {
      "collapsed_sections": [],
      "name": "CSC3007_Milestone2_DataPreprocessing.ipynb",
      "provenance": []
    },
    "kernelspec": {
      "display_name": "Python 3",
      "name": "python3"
    },
    "language_info": {
      "name": "python"
    }
  },
  "nbformat": 4,
  "nbformat_minor": 0
}
{
  "cells": [
    {
      "cell_type": "markdown",
      "source": [
        "## **Imports and Setting Up**"
      ],
      "metadata": {
        "id": "p8jVbeNXdeWo"
      }
    },
    {
      "cell_type": "code",
      "execution_count": 1,
      "metadata": {
        "id": "xqEYEU7d100j"
      },
      "outputs": [],
      "source": [
        "import pandas as pd"
      ]
    },
    {
      "cell_type": "code",
      "execution_count": 3,
      "metadata": {
        "colab": {
          "base_uri": "https://localhost:8080/"
        },
        "id": "wPIYpT_n3saL",
        "outputId": "a7efb1ab-7d41-41f4-cd99-893c53cc66f0"
      },
      "outputs": [
        {
          "metadata": {
            "tags": null
          },
          "name": "stdout",
          "output_type": "stream",
          "text": [
            "Mounted at /gdrive\n",
            "/gdrive/My Drive\n"
          ]
        }
      ],
      "source": [
        "from google.colab import drive\n",
        " \n",
        "#mount g drive\n",
        "drive.mount('/gdrive')\n",
        "\n",
        "# navigate to the project's folder\n",
        "%cd /gdrive/'My Drive'/"
      ]
    },
    {
      "cell_type": "markdown",
      "source": [
        "## **Load owid-covid-data.csv into dataframe**"
      ],
      "metadata": {
        "id": "KI35b69Qd1Zy"
      }
    },
    {
      "cell_type": "code",
      "execution_count": 54,
      "metadata": {
        "id": "monpLIli22O8"
      },
      "outputs": [],
      "source": [
        "df = pd.read_csv('CSC3007_datasets/owid-covid-data.csv') "
      ]
    },
    {
      "cell_type": "code",
      "execution_count": 5,
      "metadata": {
        "id": "oFsfRRTf8tHM"
      },
      "outputs": [],
      "source": [
        "pd.set_option('display.max_columns', None)"
      ]
    },
    {
      "cell_type": "code",
      "source": [
        "pd.set_option('display.max_rows', None)"
      ],
      "metadata": {
        "id": "2O_5y6imHPqB"
      },
      "execution_count": 56,
      "outputs": []
    },
    {
      "cell_type": "code",
      "execution_count": null,
      "metadata": {
        "colab": {
          "base_uri": "https://localhost:8080/"
        },
        "id": "cF9Ppqlu3a9b",
        "outputId": "7f02b198-3693-423a-81de-0c4b1161b038"
      },
      "outputs": [
        {
          "output_type": "execute_result",
          "data": {
            "text/plain": [
              "67"
            ]
          },
          "metadata": {},
          "execution_count": 23
        }
      ],
      "source": [
        "len(df.columns)"
      ]
    },
    {
      "cell_type": "code",
      "source": [
        "# replace United States with USA\n",
        "df[['location']] = df[['location']].replace(['United States'], ['USA'])"
      ],
      "metadata": {
        "id": "v0Q07ge2Kgch"
      },
      "execution_count": 55,
      "outputs": []
    },
    {
      "cell_type": "markdown",
      "source": [
        "## **Retrieve only the columns we need from the dataframe**"
      ],
      "metadata": {
        "id": "6U6AlBp4d-XD"
      }
    },
    {
      "cell_type": "code",
      "execution_count": 58,
      "metadata": {
        "id": "Mi53UO-f6eWg"
      },
      "outputs": [],
      "source": [
        "df = df[[\"continent\", \"location\", \"date\", \"total_cases\", \"new_cases\", \"total_deaths\", \"new_deaths\", \"total_vaccinations\", \"people_vaccinated\", \"people_fully_vaccinated\", \"total_boosters\", \"population\", \"population_density\"]].fillna(0)"
      ]
    },
    {
      "cell_type": "code",
      "source": [
        "len(df)"
      ],
      "metadata": {
        "colab": {
          "base_uri": "https://localhost:8080/"
        },
        "id": "90-rAm0InE9U",
        "outputId": "74ea384a-e099-4e9f-ea45-72cfffe2ded5"
      },
      "execution_count": 59,
      "outputs": [
        {
          "output_type": "execute_result",
          "data": {
            "text/plain": [
              "197476"
            ]
          },
          "metadata": {},
          "execution_count": 59
        }
      ]
    },
    {
      "cell_type": "markdown",
      "source": [
        "## **Load world_geojson.json into dataframe**"
      ],
      "metadata": {
        "id": "mkZIgL7nfiBT"
      }
    },
    {
      "cell_type": "code",
      "execution_count": 60,
      "metadata": {
        "id": "lRFjLoih_6q9"
      },
      "outputs": [],
      "source": [
        "import json\n",
        "\n",
        "with open('CSC3007_datasets/world_geojson.json') as data_file:    \n",
        "    data = json.load(data_file)  \n",
        "\n",
        "df_geo_world = pd.json_normalize(data, 'features', ['type'], \n",
        "                    record_prefix='features_')\n"
      ]
    },
    {
      "cell_type": "code",
      "execution_count": 61,
      "metadata": {
        "id": "IUtrKrhPAgh6",
        "colab": {
          "base_uri": "https://localhost:8080/",
          "height": 206
        },
        "outputId": "dc8a5000-40f3-49e6-b76e-a4a89b9f8680"
      },
      "outputs": [
        {
          "output_type": "execute_result",
          "data": {
            "text/plain": [
              "  features_type features_id features_properties.name features_geometry.type  \\\n",
              "0       Feature         AFG              Afghanistan                Polygon   \n",
              "1       Feature         AGO                   Angola           MultiPolygon   \n",
              "2       Feature         ALB                  Albania                Polygon   \n",
              "3       Feature         ARE     United Arab Emirates                Polygon   \n",
              "4       Feature         ARG                Argentina           MultiPolygon   \n",
              "\n",
              "                       features_geometry.coordinates               type  \n",
              "0  [[[61.210817, 35.650072], [62.230651, 35.27066...  FeatureCollection  \n",
              "1  [[[[16.326528, -5.87747], [16.57318, -6.622645...  FeatureCollection  \n",
              "2  [[[20.590247, 41.855404], [20.463175, 41.51508...  FeatureCollection  \n",
              "3  [[[51.579519, 24.245497], [51.757441, 24.29407...  FeatureCollection  \n",
              "4  [[[[-65.5, -55.2], [-66.45, -55.25], [-66.9599...  FeatureCollection  "
            ],
            "text/html": [
              "\n",
              "  <div id=\"df-7a23c99b-b27d-40d5-9d25-6284a3930407\">\n",
              "    <div class=\"colab-df-container\">\n",
              "      <div>\n",
              "<style scoped>\n",
              "    .dataframe tbody tr th:only-of-type {\n",
              "        vertical-align: middle;\n",
              "    }\n",
              "\n",
              "    .dataframe tbody tr th {\n",
              "        vertical-align: top;\n",
              "    }\n",
              "\n",
              "    .dataframe thead th {\n",
              "        text-align: right;\n",
              "    }\n",
              "</style>\n",
              "<table border=\"1\" class=\"dataframe\">\n",
              "  <thead>\n",
              "    <tr style=\"text-align: right;\">\n",
              "      <th></th>\n",
              "      <th>features_type</th>\n",
              "      <th>features_id</th>\n",
              "      <th>features_properties.name</th>\n",
              "      <th>features_geometry.type</th>\n",
              "      <th>features_geometry.coordinates</th>\n",
              "      <th>type</th>\n",
              "    </tr>\n",
              "  </thead>\n",
              "  <tbody>\n",
              "    <tr>\n",
              "      <th>0</th>\n",
              "      <td>Feature</td>\n",
              "      <td>AFG</td>\n",
              "      <td>Afghanistan</td>\n",
              "      <td>Polygon</td>\n",
              "      <td>[[[61.210817, 35.650072], [62.230651, 35.27066...</td>\n",
              "      <td>FeatureCollection</td>\n",
              "    </tr>\n",
              "    <tr>\n",
              "      <th>1</th>\n",
              "      <td>Feature</td>\n",
              "      <td>AGO</td>\n",
              "      <td>Angola</td>\n",
              "      <td>MultiPolygon</td>\n",
              "      <td>[[[[16.326528, -5.87747], [16.57318, -6.622645...</td>\n",
              "      <td>FeatureCollection</td>\n",
              "    </tr>\n",
              "    <tr>\n",
              "      <th>2</th>\n",
              "      <td>Feature</td>\n",
              "      <td>ALB</td>\n",
              "      <td>Albania</td>\n",
              "      <td>Polygon</td>\n",
              "      <td>[[[20.590247, 41.855404], [20.463175, 41.51508...</td>\n",
              "      <td>FeatureCollection</td>\n",
              "    </tr>\n",
              "    <tr>\n",
              "      <th>3</th>\n",
              "      <td>Feature</td>\n",
              "      <td>ARE</td>\n",
              "      <td>United Arab Emirates</td>\n",
              "      <td>Polygon</td>\n",
              "      <td>[[[51.579519, 24.245497], [51.757441, 24.29407...</td>\n",
              "      <td>FeatureCollection</td>\n",
              "    </tr>\n",
              "    <tr>\n",
              "      <th>4</th>\n",
              "      <td>Feature</td>\n",
              "      <td>ARG</td>\n",
              "      <td>Argentina</td>\n",
              "      <td>MultiPolygon</td>\n",
              "      <td>[[[[-65.5, -55.2], [-66.45, -55.25], [-66.9599...</td>\n",
              "      <td>FeatureCollection</td>\n",
              "    </tr>\n",
              "  </tbody>\n",
              "</table>\n",
              "</div>\n",
              "      <button class=\"colab-df-convert\" onclick=\"convertToInteractive('df-7a23c99b-b27d-40d5-9d25-6284a3930407')\"\n",
              "              title=\"Convert this dataframe to an interactive table.\"\n",
              "              style=\"display:none;\">\n",
              "        \n",
              "  <svg xmlns=\"http://www.w3.org/2000/svg\" height=\"24px\"viewBox=\"0 0 24 24\"\n",
              "       width=\"24px\">\n",
              "    <path d=\"M0 0h24v24H0V0z\" fill=\"none\"/>\n",
              "    <path d=\"M18.56 5.44l.94 2.06.94-2.06 2.06-.94-2.06-.94-.94-2.06-.94 2.06-2.06.94zm-11 1L8.5 8.5l.94-2.06 2.06-.94-2.06-.94L8.5 2.5l-.94 2.06-2.06.94zm10 10l.94 2.06.94-2.06 2.06-.94-2.06-.94-.94-2.06-.94 2.06-2.06.94z\"/><path d=\"M17.41 7.96l-1.37-1.37c-.4-.4-.92-.59-1.43-.59-.52 0-1.04.2-1.43.59L10.3 9.45l-7.72 7.72c-.78.78-.78 2.05 0 2.83L4 21.41c.39.39.9.59 1.41.59.51 0 1.02-.2 1.41-.59l7.78-7.78 2.81-2.81c.8-.78.8-2.07 0-2.86zM5.41 20L4 18.59l7.72-7.72 1.47 1.35L5.41 20z\"/>\n",
              "  </svg>\n",
              "      </button>\n",
              "      \n",
              "  <style>\n",
              "    .colab-df-container {\n",
              "      display:flex;\n",
              "      flex-wrap:wrap;\n",
              "      gap: 12px;\n",
              "    }\n",
              "\n",
              "    .colab-df-convert {\n",
              "      background-color: #E8F0FE;\n",
              "      border: none;\n",
              "      border-radius: 50%;\n",
              "      cursor: pointer;\n",
              "      display: none;\n",
              "      fill: #1967D2;\n",
              "      height: 32px;\n",
              "      padding: 0 0 0 0;\n",
              "      width: 32px;\n",
              "    }\n",
              "\n",
              "    .colab-df-convert:hover {\n",
              "      background-color: #E2EBFA;\n",
              "      box-shadow: 0px 1px 2px rgba(60, 64, 67, 0.3), 0px 1px 3px 1px rgba(60, 64, 67, 0.15);\n",
              "      fill: #174EA6;\n",
              "    }\n",
              "\n",
              "    [theme=dark] .colab-df-convert {\n",
              "      background-color: #3B4455;\n",
              "      fill: #D2E3FC;\n",
              "    }\n",
              "\n",
              "    [theme=dark] .colab-df-convert:hover {\n",
              "      background-color: #434B5C;\n",
              "      box-shadow: 0px 1px 3px 1px rgba(0, 0, 0, 0.15);\n",
              "      filter: drop-shadow(0px 1px 2px rgba(0, 0, 0, 0.3));\n",
              "      fill: #FFFFFF;\n",
              "    }\n",
              "  </style>\n",
              "\n",
              "      <script>\n",
              "        const buttonEl =\n",
              "          document.querySelector('#df-7a23c99b-b27d-40d5-9d25-6284a3930407 button.colab-df-convert');\n",
              "        buttonEl.style.display =\n",
              "          google.colab.kernel.accessAllowed ? 'block' : 'none';\n",
              "\n",
              "        async function convertToInteractive(key) {\n",
              "          const element = document.querySelector('#df-7a23c99b-b27d-40d5-9d25-6284a3930407');\n",
              "          const dataTable =\n",
              "            await google.colab.kernel.invokeFunction('convertToInteractive',\n",
              "                                                     [key], {});\n",
              "          if (!dataTable) return;\n",
              "\n",
              "          const docLinkHtml = 'Like what you see? Visit the ' +\n",
              "            '<a target=\"_blank\" href=https://colab.research.google.com/notebooks/data_table.ipynb>data table notebook</a>'\n",
              "            + ' to learn more about interactive tables.';\n",
              "          element.innerHTML = '';\n",
              "          dataTable['output_type'] = 'display_data';\n",
              "          await google.colab.output.renderOutput(dataTable, element);\n",
              "          const docLink = document.createElement('div');\n",
              "          docLink.innerHTML = docLinkHtml;\n",
              "          element.appendChild(docLink);\n",
              "        }\n",
              "      </script>\n",
              "    </div>\n",
              "  </div>\n",
              "  "
            ]
          },
          "metadata": {},
          "execution_count": 61
        }
      ],
      "source": [
        "df_geo_world.head()"
      ]
    },
    {
      "cell_type": "code",
      "execution_count": 62,
      "metadata": {
        "id": "JHZa0VxeAoKu",
        "colab": {
          "base_uri": "https://localhost:8080/"
        },
        "outputId": "efe864cd-6090-4fd2-c1e7-90509e62ad10"
      },
      "outputs": [
        {
          "output_type": "execute_result",
          "data": {
            "text/plain": [
              "0                              Afghanistan\n",
              "1                                   Angola\n",
              "2                                  Albania\n",
              "3                     United Arab Emirates\n",
              "4                                Argentina\n",
              "5                                  Armenia\n",
              "6                               Antarctica\n",
              "7      French Southern and Antarctic Lands\n",
              "8                                Australia\n",
              "9                                  Austria\n",
              "10                              Azerbaijan\n",
              "11                                 Burundi\n",
              "12                                 Belgium\n",
              "13                                   Benin\n",
              "14                            Burkina Faso\n",
              "15                              Bangladesh\n",
              "16                                Bulgaria\n",
              "17                             The Bahamas\n",
              "18                  Bosnia and Herzegovina\n",
              "19                                 Belarus\n",
              "20                                  Belize\n",
              "21                                 Bolivia\n",
              "22                                  Brazil\n",
              "23                                  Brunei\n",
              "24                                  Bhutan\n",
              "25                                Botswana\n",
              "26                Central African Republic\n",
              "27                                  Canada\n",
              "28                             Switzerland\n",
              "29                                   Chile\n",
              "30                                   China\n",
              "31                             Ivory Coast\n",
              "32                                Cameroon\n",
              "33        Democratic Republic of the Congo\n",
              "34                   Republic of the Congo\n",
              "35                                Colombia\n",
              "36                              Costa Rica\n",
              "37                                    Cuba\n",
              "38                         Northern Cyprus\n",
              "39                                  Cyprus\n",
              "40                          Czech Republic\n",
              "41                                 Germany\n",
              "42                                Djibouti\n",
              "43                                 Denmark\n",
              "44                      Dominican Republic\n",
              "45                                 Algeria\n",
              "46                                 Ecuador\n",
              "47                                   Egypt\n",
              "48                                 Eritrea\n",
              "49                                   Spain\n",
              "50                                 Estonia\n",
              "51                                Ethiopia\n",
              "52                                 Finland\n",
              "53                                    Fiji\n",
              "54                        Falkland Islands\n",
              "55                                  France\n",
              "56                                   Gabon\n",
              "57                                 England\n",
              "58                                 Georgia\n",
              "59                                   Ghana\n",
              "60                                  Guinea\n",
              "61                                  Gambia\n",
              "62                           Guinea Bissau\n",
              "63                       Equatorial Guinea\n",
              "64                                  Greece\n",
              "65                               Greenland\n",
              "66                               Guatemala\n",
              "67                                  Guyana\n",
              "68                                Honduras\n",
              "69                                 Croatia\n",
              "70                                   Haiti\n",
              "71                                 Hungary\n",
              "72                               Indonesia\n",
              "73                                   India\n",
              "74                                 Ireland\n",
              "75                                    Iran\n",
              "76                                    Iraq\n",
              "77                                 Iceland\n",
              "78                                  Israel\n",
              "79                                   Italy\n",
              "80                                 Jamaica\n",
              "81                                  Jordan\n",
              "82                                   Japan\n",
              "83                              Kazakhstan\n",
              "84                                   Kenya\n",
              "85                              Kyrgyzstan\n",
              "86                                Cambodia\n",
              "87                             South Korea\n",
              "88                                  Kosovo\n",
              "89                                  Kuwait\n",
              "90                                    Laos\n",
              "91                                 Lebanon\n",
              "92                                 Liberia\n",
              "93                                   Libya\n",
              "94                               Sri Lanka\n",
              "95                                 Lesotho\n",
              "96                               Lithuania\n",
              "97                              Luxembourg\n",
              "98                                  Latvia\n",
              "99                                 Morocco\n",
              "100                                Moldova\n",
              "101                             Madagascar\n",
              "102                                 Mexico\n",
              "103                              Macedonia\n",
              "104                                   Mali\n",
              "105                                Myanmar\n",
              "106                             Montenegro\n",
              "107                               Mongolia\n",
              "108                             Mozambique\n",
              "109                             Mauritania\n",
              "110                                 Malawi\n",
              "111                               Malaysia\n",
              "112                                Namibia\n",
              "113                          New Caledonia\n",
              "114                                  Niger\n",
              "115                                Nigeria\n",
              "116                              Nicaragua\n",
              "117                            Netherlands\n",
              "118                                 Norway\n",
              "119                                  Nepal\n",
              "120                            New Zealand\n",
              "121                                   Oman\n",
              "122                               Pakistan\n",
              "123                                 Panama\n",
              "124                                   Peru\n",
              "125                            Philippines\n",
              "126                       Papua New Guinea\n",
              "127                                 Poland\n",
              "128                            Puerto Rico\n",
              "129                            North Korea\n",
              "130                               Portugal\n",
              "131                               Paraguay\n",
              "132                                  Qatar\n",
              "133                                Romania\n",
              "134                                 Russia\n",
              "135                                 Rwanda\n",
              "136                         Western Sahara\n",
              "137                           Saudi Arabia\n",
              "138                                  Sudan\n",
              "139                            South Sudan\n",
              "140                                Senegal\n",
              "141                        Solomon Islands\n",
              "142                           Sierra Leone\n",
              "143                            El Salvador\n",
              "144                             Somaliland\n",
              "145                                Somalia\n",
              "146                     Republic of Serbia\n",
              "147                               Suriname\n",
              "148                               Slovakia\n",
              "149                               Slovenia\n",
              "150                                 Sweden\n",
              "151                              Swaziland\n",
              "152                                  Syria\n",
              "153                                   Chad\n",
              "154                                   Togo\n",
              "155                               Thailand\n",
              "156                             Tajikistan\n",
              "157                           Turkmenistan\n",
              "158                             East Timor\n",
              "159                    Trinidad and Tobago\n",
              "160                                Tunisia\n",
              "161                                 Turkey\n",
              "162                                 Taiwan\n",
              "163            United Republic of Tanzania\n",
              "164                                 Uganda\n",
              "165                                Ukraine\n",
              "166                                Uruguay\n",
              "167                                    USA\n",
              "168                             Uzbekistan\n",
              "169                              Venezuela\n",
              "170                                Vietnam\n",
              "171                                Vanuatu\n",
              "172                              West Bank\n",
              "173                                  Yemen\n",
              "174                           South Africa\n",
              "175                                 Zambia\n",
              "176                               Zimbabwe\n",
              "Name: features_properties.name, dtype: object"
            ]
          },
          "metadata": {},
          "execution_count": 62
        }
      ],
      "source": [
        "df_geo_world[\"features_properties.name\"]"
      ]
    },
    {
      "cell_type": "markdown",
      "source": [
        "## **Only get the rows based on the common values between the column:\"location\" from the owid-covid-data.csv and in the column:\"features_properties.name\" from the world_geojson.json**"
      ],
      "metadata": {
        "id": "wMKVj44Vfq8C"
      }
    },
    {
      "cell_type": "code",
      "source": [
        "df_without_duplicates = df.drop_duplicates(subset=['location'])\n",
        "df_without_duplicates\n",
        "print(len(df_without_duplicates))"
      ],
      "metadata": {
        "colab": {
          "base_uri": "https://localhost:8080/"
        },
        "id": "kDLq_onCdSXm",
        "outputId": "4560c9f0-a33d-4fdf-db40-d76a2d04eedc"
      },
      "execution_count": 63,
      "outputs": [
        {
          "output_type": "stream",
          "name": "stdout",
          "text": [
            "244\n"
          ]
        }
      ]
    },
    {
      "cell_type": "code",
      "source": [
        "common_df = df_without_duplicates[df_without_duplicates['location'].isin(df_geo_world['features_properties.name'])]"
      ],
      "metadata": {
        "id": "MnwjBIpWbwG9"
      },
      "execution_count": 64,
      "outputs": []
    },
    {
      "cell_type": "code",
      "source": [
        "intersect_locations = common_df['location']"
      ],
      "metadata": {
        "id": "Kl9n4f2cnwET"
      },
      "execution_count": 65,
      "outputs": []
    },
    {
      "cell_type": "code",
      "source": [
        "final_output = df.loc[df['location'].isin(intersect_locations.values)]\n",
        "print(len(final_output))"
      ],
      "metadata": {
        "colab": {
          "base_uri": "https://localhost:8080/"
        },
        "id": "XWfa68lCnhzj",
        "outputId": "970a4536-5d20-4fdd-ea0c-0f5181df2900"
      },
      "execution_count": 66,
      "outputs": [
        {
          "output_type": "stream",
          "name": "stdout",
          "text": [
            "134470\n"
          ]
        }
      ]
    },
    {
      "cell_type": "code",
      "execution_count": 67,
      "metadata": {
        "id": "JKvWTTuwQ9ed"
      },
      "outputs": [],
      "source": [
        "final_output.to_csv(\"CSC3007_datasets/owid-covid-data_processed.csv\", encoding='utf-8')"
      ]
    }
  ],
  "metadata": {
    "colab": {
      "collapsed_sections": [],
      "name": "CSC3007_Milestone2_DataPreprocessing.ipynb",
      "provenance": []
    },
    "kernelspec": {
      "display_name": "Python 3",
      "name": "python3"
    },
    "language_info": {
      "name": "python"
    }
  },
  "nbformat": 4,
  "nbformat_minor": 0
}